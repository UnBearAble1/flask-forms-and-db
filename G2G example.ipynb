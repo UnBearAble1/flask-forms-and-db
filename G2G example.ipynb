{
 "cells": [
  {
   "cell_type": "code",
   "execution_count": 1,
   "id": "156d5302",
   "metadata": {},
   "outputs": [],
   "source": [
    "import sqlite3\n",
    " \n",
    "# connecting to the database\n",
    "connection = sqlite3.connect(\"gfg.db\")\n",
    " \n",
    "# cursor\n",
    "crsr = connection.cursor()\n",
    " \n",
    "# SQL command to create a table in the database\n",
    "sql_command = \"\"\"CREATE TABLE emp (\n",
    "staff_number INTEGER PRIMARY KEY,\n",
    "fname VARCHAR(20),\n",
    "lname VARCHAR(30),\n",
    "gender CHAR(1),\n",
    "joining DATE);\"\"\"\n",
    " \n",
    "# execute the statement\n",
    "crsr.execute(sql_command)\n",
    " \n",
    "# close the connection\n",
    "connection.close()"
   ]
  },
  {
   "cell_type": "code",
   "execution_count": null,
   "id": "ec7100eb",
   "metadata": {},
   "outputs": [],
   "source": [
    "# Python code to demonstrate table creation and\n",
    "# insertions with SQL\n",
    " \n",
    "# importing module\n",
    "import sqlite3\n",
    " \n",
    "# connecting to the database\n",
    "connection = sqlite3.connect(\"gfg.db\")\n",
    " \n",
    "# cursor\n",
    "crsr = connection.cursor()\n",
    " \n",
    "# SQL command to insert the data in the table\n",
    "sql_command = \"\"\"INSERT INTO emp VALUES (23, \"Rishabh\",\\\n",
    "\"Bansal\", \"M\", \"2014-03-28\");\"\"\"\n",
    "crsr.execute(sql_command)\n",
    " \n",
    "# another SQL command to insert the data in the table\n",
    "sql_command = \"\"\"INSERT INTO emp VALUES (1, \"Bill\", \"Gates\",\\\n",
    "\"M\", \"1980-10-28\");\"\"\"\n",
    "crsr.execute(sql_command)\n",
    " \n",
    "# To save the changes in the files. Never skip this.\n",
    "# If we skip this, nothing will be saved in the database.\n",
    "connection.commit()\n",
    " \n",
    "# close the connection\n",
    "connection.close()"
   ]
  },
  {
   "cell_type": "code",
   "execution_count": null,
   "id": "f0327bd7",
   "metadata": {},
   "outputs": [],
   "source": []
  },
  {
   "cell_type": "code",
   "execution_count": null,
   "id": "e29c7785",
   "metadata": {},
   "outputs": [],
   "source": []
  }
 ],
 "metadata": {
  "kernelspec": {
   "display_name": "Python 3 (ipykernel)",
   "language": "python",
   "name": "python3"
  },
  "language_info": {
   "codemirror_mode": {
    "name": "ipython",
    "version": 3
   },
   "file_extension": ".py",
   "mimetype": "text/x-python",
   "name": "python",
   "nbconvert_exporter": "python",
   "pygments_lexer": "ipython3",
   "version": "3.7.15"
  }
 },
 "nbformat": 4,
 "nbformat_minor": 5
}
